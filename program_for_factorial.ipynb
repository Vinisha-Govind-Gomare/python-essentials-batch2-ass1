{
  "nbformat": 4,
  "nbformat_minor": 0,
  "metadata": {
    "colab": {
      "name": "program for factorial.ipynb",
      "provenance": []
    },
    "kernelspec": {
      "name": "python3",
      "display_name": "Python 3"
    }
  },
  "cells": [
    {
      "cell_type": "code",
      "metadata": {
        "colab": {
          "base_uri": "https://localhost:8080/"
        },
        "id": "3Ac2P96EAaLd",
        "outputId": "0ab5cc3a-26c9-47a3-9e62-88e4268749f0"
      },
      "source": [
        "n=int(input(\"Enetr a number:\"))\r\n",
        "fact=1\r\n",
        "for i in range(n,1,-1):\r\n",
        "    fact=fact*i\r\n",
        "print(\"Factorial\",fact)\r\n"
      ],
      "execution_count": 3,
      "outputs": [
        {
          "output_type": "stream",
          "text": [
            "Enetr a number:3\n",
            "Factorial 6\n"
          ],
          "name": "stdout"
        }
      ]
    }
  ]
}