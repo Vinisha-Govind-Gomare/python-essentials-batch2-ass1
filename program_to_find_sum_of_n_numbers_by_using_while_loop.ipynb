{
  "nbformat": 4,
  "nbformat_minor": 0,
  "metadata": {
    "colab": {
      "name": "program to find sum of n numbers by using while loop.ipynb",
      "provenance": []
    },
    "kernelspec": {
      "name": "python3",
      "display_name": "Python 3"
    }
  },
  "cells": [
    {
      "cell_type": "code",
      "metadata": {
        "colab": {
          "base_uri": "https://localhost:8080/"
        },
        "id": "3Ac2P96EAaLd",
        "outputId": "8747d619-d67e-4e7f-ec6d-5197e0156c5c"
      },
      "source": [
        "number=int(input(\"Enter the number:\"))\r\n",
        "\r\n",
        "total= 0\r\n",
        "value= 1\r\n",
        "while(value<=number):\r\n",
        "    total=total+value\r\n",
        "    value=value+1\r\n",
        "    \r\n",
        "print(\"The Sum of natural numbers from 1 to {0}= {1}\".format(number,total))    \r\n",
        "    \r\n",
        "    "
      ],
      "execution_count": 19,
      "outputs": [
        {
          "output_type": "stream",
          "text": [
            "Enter the number:5\n",
            "The Sum of natural numbers from 1 to 5= 15\n"
          ],
          "name": "stdout"
        }
      ]
    }
  ]
}