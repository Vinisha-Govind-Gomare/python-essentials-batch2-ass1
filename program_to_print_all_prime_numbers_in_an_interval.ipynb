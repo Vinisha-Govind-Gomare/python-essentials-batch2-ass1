{
  "nbformat": 4,
  "nbformat_minor": 0,
  "metadata": {
    "colab": {
      "name": "program to print all prime numbers in an interval.ipynb",
      "provenance": []
    },
    "kernelspec": {
      "name": "python3",
      "display_name": "Python 3"
    }
  },
  "cells": [
    {
      "cell_type": "code",
      "metadata": {
        "colab": {
          "base_uri": "https://localhost:8080/"
        },
        "id": "3Ac2P96EAaLd",
        "outputId": "f99595d5-6cb5-4a5d-ac91-8c4bc6cc6b79"
      },
      "source": [
        "lower=int(input(\"Enter lower limit:\"))\r\n",
        "upper=int(input(\"Enter  upper limit:\"))\r\n",
        "print(\"prime numbers between\",lower,\"and\",upper,\"are\")\r\n",
        "for num in range(lower, upper + 1):\r\n",
        "    if num >1:\r\n",
        "       for i in range(2, num):\r\n",
        "          if num % i == 0:\r\n",
        "             break\r\n",
        "       else:\r\n",
        "        print(num, end=\" \")"
      ],
      "execution_count": 18,
      "outputs": [
        {
          "output_type": "stream",
          "text": [
            "Enter lower limit:3\n",
            "Enter  upper limit:7\n",
            "prime numbers between 3 and 7 are\n",
            "3 5 7 "
          ],
          "name": "stdout"
        }
      ]
    }
  ]
}